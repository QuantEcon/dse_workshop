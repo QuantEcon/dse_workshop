{
 "cells": [
  {
   "cell_type": "markdown",
   "id": "7a94b3ed",
   "metadata": {},
   "source": [
    "# Optimal savings with JAX\n",
    "\n",
    "#### Prepared for the DSE Summer School (December 2022)\n",
    "\n",
    "#### John Stachurski\n",
    "\n",
    "Re-implements the optimal savings problem using JAX."
   ]
  },
  {
   "cell_type": "code",
   "execution_count": 1,
   "id": "02c17227",
   "metadata": {},
   "outputs": [],
   "source": [
    "import numpy as np\n",
    "import quantecon as qe\n",
    "import jax\n",
    "import jax.numpy as jnp\n",
    "from collections import namedtuple\n",
    "import matplotlib.pyplot as plt"
   ]
  },
  {
   "cell_type": "code",
   "execution_count": 2,
   "id": "8527cb69",
   "metadata": {
    "lines_to_next_cell": 1
   },
   "outputs": [],
   "source": [
    "# Use 64 bit floats with JAX in order to match NumPy/Numba code\n",
    "jax.config.update(\"jax_enable_x64\", True)"
   ]
  },
  {
   "cell_type": "code",
   "execution_count": 3,
   "id": "9c9bff2a",
   "metadata": {},
   "outputs": [],
   "source": [
    "def successive_approx(T,                     # Operator (callable)\n",
    "                      x_0,                   # Initial condition\n",
    "                      tolerance=1e-6,        # Error tolerance\n",
    "                      max_iter=10_000,       # Max iteration bound\n",
    "                      print_step=25,         # Print at multiples\n",
    "                      verbose=False):        \n",
    "    x = x_0\n",
    "    error = tolerance + 1\n",
    "    k = 1\n",
    "    while error > tolerance and k <= max_iter:\n",
    "        x_new = T(x)\n",
    "        error = jnp.max(jnp.abs(x_new - x))\n",
    "        if verbose and k % print_step == 0:\n",
    "            print(f\"Completed iteration {k} with error {error}.\")\n",
    "        x = x_new\n",
    "        k += 1\n",
    "    if error > tolerance:\n",
    "        print(f\"Warning: Iteration hit upper bound {max_iter}.\")\n",
    "    elif verbose:\n",
    "        print(f\"Terminated successfully in {k} iterations.\")\n",
    "    return x"
   ]
  },
  {
   "cell_type": "markdown",
   "id": "5c45966b",
   "metadata": {},
   "source": [
    "##  Primitives and Operators "
   ]
  },
  {
   "cell_type": "code",
   "execution_count": 4,
   "id": "815aec27",
   "metadata": {
    "lines_to_next_cell": 1
   },
   "outputs": [],
   "source": [
    "# A namedtuple definition for storing parameters and grids\n",
    "Model = namedtuple('Model', \n",
    "                    ('β', 'R', 'γ', 'w_grid', 'y_grid', 'Q'))"
   ]
  },
  {
   "cell_type": "code",
   "execution_count": 5,
   "id": "7c486dbb",
   "metadata": {},
   "outputs": [],
   "source": [
    "def create_consumption_model(R=1.01,                    # Gross interest rate\n",
    "                             β=0.98,                    # Discount factor\n",
    "                             γ=2.5,                     # CRRA parameter\n",
    "                             w_min=0.01,                # Min wealth\n",
    "                             w_max=5.0,                 # Max wealth\n",
    "                             w_size=150,                # Grid side\n",
    "                             ρ=0.9, ν=0.1, y_size=100): # Income parameters\n",
    "    \"\"\"\n",
    "    A function that takes in parameters and returns an instance of Model that\n",
    "    contains data for the optimal savings problem.\n",
    "    \"\"\"\n",
    "    w_grid = np.linspace(w_min, w_max, w_size)  \n",
    "    mc = qe.tauchen(ρ, ν, n=y_size)\n",
    "    y_grid, Q = np.exp(mc.state_values), mc.P\n",
    "    return Model(β=β, R=R, γ=γ, w_grid=w_grid, y_grid=y_grid, Q=Q)"
   ]
  },
  {
   "cell_type": "code",
   "execution_count": 6,
   "id": "ecf56e44",
   "metadata": {},
   "outputs": [],
   "source": [
    "def create_consumption_model_jax():\n",
    "    \"Build a JAX-compatible version of the consumption model.\"\n",
    "\n",
    "    model = create_consumption_model()\n",
    "    β, R, γ, w_grid, y_grid, Q = model\n",
    "\n",
    "    # Break up parameters into static and nonstatic components\n",
    "    constants = β, R, γ\n",
    "    sizes = len(w_grid), len(y_grid)\n",
    "    arrays = w_grid, y_grid, Q\n",
    "\n",
    "    # Shift arrays to the device (e.g., GPU)\n",
    "    arrays = tuple(map(jax.device_put, arrays))\n",
    "    return constants, sizes, arrays"
   ]
  },
  {
   "cell_type": "code",
   "execution_count": 8,
   "id": "20591dcf",
   "metadata": {},
   "outputs": [],
   "source": [
    "def B(v, constants, sizes, arrays):\n",
    "    \"\"\"\n",
    "    A vectorized version of the right-hand side of the Bellman equation \n",
    "    (before maximization), which is a 3D array representing\n",
    "\n",
    "        B(w, y, w′) = u(Rw + y - w′) + β Σ_y′ v(w′, y′) Q(y, y′)\n",
    "\n",
    "    for all (w, y, w′).\n",
    "    \"\"\"\n",
    "\n",
    "    # Unpack \n",
    "    β, R, γ = constants\n",
    "    w_size, y_size = sizes\n",
    "    w_grid, y_grid, Q = arrays\n",
    "\n",
    "    # Compute current rewards r(w, y, wp) as array r[i, j, ip]\n",
    "    w  = jnp.reshape(w_grid, (w_size, 1, 1))    # w[i]   ->  w[i, j, ip]\n",
    "    y  = jnp.reshape(y_grid, (1, y_size, 1))    # z[j]   ->  z[i, j, ip]\n",
    "    wp = jnp.reshape(w_grid, (1, 1, w_size))    # wp[ip] -> wp[i, j, ip]\n",
    "    c = R * w + y - wp\n",
    "\n",
    "    # Calculate continuation rewards at all combinations of (w, y, wp)\n",
    "    v = jnp.reshape(v, (1, 1, w_size, y_size))  # v[ip, jp] -> v[i, j, ip, jp]\n",
    "    Q = jnp.reshape(Q, (1, y_size, 1, y_size))  # Q[j, jp]  -> Q[i, j, ip, jp]\n",
    "    EV = jnp.sum(v * Q, axis=3)                 # sum over last index jp\n",
    "\n",
    "    # Compute the right-hand side of the Bellman equation\n",
    "    return jnp.where(c > 0, c**(1-γ)/(1-γ) + β * EV, -np.inf)"
   ]
  },
  {
   "cell_type": "code",
   "execution_count": 9,
   "id": "e4623029",
   "metadata": {},
   "outputs": [],
   "source": [
    "def compute_r_σ(σ, constants, sizes, arrays):\n",
    "    \"\"\"\n",
    "    Compute the array r_σ[i, j] = r[i, j, σ[i, j]], which gives current\n",
    "    rewards given policy σ.\n",
    "    \"\"\"\n",
    "\n",
    "    # Unpack model\n",
    "    β, R, γ = constants\n",
    "    w_size, y_size = sizes\n",
    "    w_grid, y_grid, Q = arrays\n",
    "\n",
    "    # Compute r_σ[i, j]\n",
    "    w = jnp.reshape(w_grid, (w_size, 1))\n",
    "    y = jnp.reshape(y_grid, (1, y_size))\n",
    "    wp = w_grid[σ]\n",
    "    c = R * w + y - wp\n",
    "    r_σ = c**(1-γ)/(1-γ)\n",
    "\n",
    "    return r_σ"
   ]
  },
  {
   "cell_type": "code",
   "execution_count": 10,
   "id": "61c20c07",
   "metadata": {},
   "outputs": [],
   "source": [
    "def T(v, constants, sizes, arrays):\n",
    "    \"The Bellman operator.\"\n",
    "    return jnp.max(B(v, constants, sizes, arrays), axis=2)"
   ]
  },
  {
   "cell_type": "code",
   "execution_count": 11,
   "id": "be2c9bc6",
   "metadata": {},
   "outputs": [],
   "source": [
    "def get_greedy(v, constants, sizes, arrays):\n",
    "    \"Computes a v-greedy policy, returned as a set of indices.\"\n",
    "    return jnp.argmax(B(v, constants, sizes, arrays), axis=2)"
   ]
  },
  {
   "cell_type": "code",
   "execution_count": 12,
   "id": "ab44db41",
   "metadata": {},
   "outputs": [],
   "source": [
    "def T_σ(v, σ, constants, sizes, arrays):\n",
    "    \"The σ-policy operator.\"\n",
    "\n",
    "    # Unpack model\n",
    "    β, R, γ = constants\n",
    "    w_size, y_size = sizes\n",
    "    w_grid, y_grid, Q = arrays\n",
    "\n",
    "    r_σ = compute_r_σ(σ, constants, sizes, arrays)\n",
    "\n",
    "    # Compute the array v[σ[i, j], jp]\n",
    "    yp_idx = jnp.arange(y_size)\n",
    "    yp_idx = jnp.reshape(yp_idx, (1, 1, y_size))\n",
    "    σ = jnp.reshape(σ, (w_size, y_size, 1))\n",
    "    V = v[σ, yp_idx]      \n",
    "\n",
    "    # Convert Q[j, jp] to Q[i, j, jp] \n",
    "    Q = jnp.reshape(Q, (1, y_size, y_size))\n",
    "\n",
    "    # Calculate the expected sum Σ_jp v[σ[i, j], jp] * Q[i, j, jp]\n",
    "    Ev = np.sum(V * Q, axis=2)\n",
    "\n",
    "    return r_σ + β * np.sum(V * Q, axis=2)"
   ]
  },
  {
   "cell_type": "code",
   "execution_count": 13,
   "id": "871f3a3a",
   "metadata": {},
   "outputs": [],
   "source": [
    "def R_σ(v, σ, constants, sizes, arrays):\n",
    "    \"\"\"\n",
    "    The value v_σ of a policy σ is defined as \n",
    "\n",
    "        v_σ = (I - β P_σ)^{-1} r_σ\n",
    "\n",
    "    Here we set up the linear map v -> R_σ v, where R_σ := I - β P_σ. \n",
    "\n",
    "    In the consumption problem, this map can be expressed as\n",
    "\n",
    "        (R_σ v)(w, y) = v(w, y) - β Σ_y′ v(σ(w, y), y′) Q(y, y′)\n",
    "\n",
    "    Defining the map as above works in a more intuitive multi-index setting\n",
    "    (e.g. working with v[i, j] rather than flattening v to a one-dimensional\n",
    "    array) and avoids instantiating the large matrix P_σ.\n",
    "\n",
    "    \"\"\"\n",
    "\n",
    "    β, R, γ = constants\n",
    "    w_size, y_size = sizes\n",
    "    w_grid, y_grid, Q = arrays\n",
    "\n",
    "    # Set up the array v[σ[i, j], jp]\n",
    "    zp_idx = jnp.arange(y_size)\n",
    "    zp_idx = jnp.reshape(zp_idx, (1, 1, y_size))\n",
    "    σ = jnp.reshape(σ, (w_size, y_size, 1))\n",
    "    V = v[σ, zp_idx]\n",
    "\n",
    "    # Expand Q[j, jp] to Q[i, j, jp]\n",
    "    Q = jnp.reshape(Q, (1, y_size, y_size))\n",
    "\n",
    "    # Compute and return v[i, j] - β Σ_jp v[σ[i, j], jp] * Q[j, jp]\n",
    "    return v - β * jnp.sum(V * Q, axis=2)"
   ]
  },
  {
   "cell_type": "code",
   "execution_count": 14,
   "id": "ecadb6f1",
   "metadata": {
    "lines_to_next_cell": 2
   },
   "outputs": [],
   "source": [
    "def get_value(σ, constants, sizes, arrays):\n",
    "    \"Get the value v_σ of policy σ by inverting the linear map R_σ.\"\n",
    "\n",
    "    # Unpack \n",
    "    β, R, γ = constants\n",
    "    w_size, y_size = sizes\n",
    "    w_grid, y_grid, Q = arrays\n",
    "\n",
    "    r_σ = compute_r_σ(σ, constants, sizes, arrays)\n",
    "\n",
    "    # Reduce R_σ to a function in v\n",
    "    partial_R_σ = lambda v: R_σ(v, σ, constants, sizes, arrays)\n",
    "\n",
    "    return jax.scipy.sparse.linalg.bicgstab(partial_R_σ, r_σ)[0]"
   ]
  },
  {
   "cell_type": "markdown",
   "id": "2f82dac4",
   "metadata": {},
   "source": [
    "## JIT compiled versions"
   ]
  },
  {
   "cell_type": "code",
   "execution_count": 15,
   "id": "64e99f2e",
   "metadata": {},
   "outputs": [],
   "source": [
    "B = jax.jit(B, static_argnums=(2,))\n",
    "compute_r_σ = jax.jit(compute_r_σ, static_argnums=(2,))\n",
    "T = jax.jit(T, static_argnums=(2,))\n",
    "get_greedy = jax.jit(get_greedy, static_argnums=(2,))"
   ]
  },
  {
   "cell_type": "code",
   "execution_count": 16,
   "id": "dcc66213",
   "metadata": {},
   "outputs": [],
   "source": [
    "get_value = jax.jit(get_value, static_argnums=(2,))"
   ]
  },
  {
   "cell_type": "code",
   "execution_count": 17,
   "id": "7b2f0051",
   "metadata": {},
   "outputs": [],
   "source": [
    "T_σ = jax.jit(T_σ, static_argnums=(3,))\n",
    "R_σ = jax.jit(R_σ, static_argnums=(3,))"
   ]
  },
  {
   "cell_type": "markdown",
   "id": "a5ca0e77",
   "metadata": {},
   "source": [
    "##  Solvers"
   ]
  },
  {
   "cell_type": "code",
   "execution_count": 18,
   "id": "08d41325",
   "metadata": {
    "lines_to_next_cell": 1
   },
   "outputs": [],
   "source": [
    "def value_iteration(model, tol=1e-5):\n",
    "    \"Implements VFI.\"\n",
    "\n",
    "    constants, sizes, arrays = model\n",
    "    _T = lambda v: T(v, constants, sizes, arrays)\n",
    "    vz = jnp.zeros(sizes)\n",
    "\n",
    "    v_star = successive_approx(_T, vz, tolerance=tol)\n",
    "    return get_greedy(v_star, constants, sizes, arrays)"
   ]
  },
  {
   "cell_type": "code",
   "execution_count": 19,
   "id": "d9093236",
   "metadata": {
    "lines_to_next_cell": 1
   },
   "outputs": [],
   "source": [
    "def policy_iteration(model):\n",
    "    \"Howard policy iteration routine.\"\n",
    "    constants, sizes, arrays = model\n",
    "    vz = jnp.zeros(sizes)\n",
    "    σ = jnp.zeros(sizes, dtype=int)\n",
    "    i, error = 0, 1.0\n",
    "    while error > 0:\n",
    "        v_σ = get_value(σ, constants, sizes, arrays)\n",
    "        σ_new = get_greedy(v_σ, constants, sizes, arrays)\n",
    "        error = jnp.max(np.abs(σ_new - σ))\n",
    "        σ = σ_new\n",
    "        i = i + 1\n",
    "        print(f\"Concluded loop {i} with error {error}.\")\n",
    "    return σ"
   ]
  },
  {
   "cell_type": "code",
   "execution_count": 20,
   "id": "2ea60a89",
   "metadata": {},
   "outputs": [],
   "source": [
    "def optimistic_policy_iteration(model, tol=1e-5, m=10):\n",
    "    \"Implements the OPI routine.\"\n",
    "    constants, sizes, arrays = model\n",
    "    v = jnp.zeros(sizes)\n",
    "    error = tol + 1\n",
    "    while error > tol:\n",
    "        last_v = v\n",
    "        σ = get_greedy(v, constants, sizes, arrays)\n",
    "        for _ in range(m):\n",
    "            v = T_σ(v, σ, constants, sizes, arrays)\n",
    "        error = jnp.max(np.abs(v - last_v))\n",
    "    return get_greedy(v, constants, sizes, arrays)"
   ]
  },
  {
   "cell_type": "markdown",
   "id": "63273551",
   "metadata": {},
   "source": [
    "## Plots"
   ]
  },
  {
   "cell_type": "code",
   "execution_count": null,
   "id": "af6addae",
   "metadata": {},
   "outputs": [],
   "source": [
    "fontsize=12\n",
    "model = create_consumption_model_jax()\n",
    "# Unpack \n",
    "constants, sizes, arrays = model\n",
    "β, R, γ = constants\n",
    "w_size, y_size = sizes\n",
    "w_grid, y_grid, Q = arrays\n",
    "σ_star = policy_iteration(model)\n",
    "fig, ax = plt.subplots(figsize=(9, 5.2))\n",
    "ax.plot(w_grid, w_grid, \"k--\", label=\"45\")\n",
    "ax.plot(w_grid, w_grid[σ_star[:, 1]], label=\"$\\\\sigma^*(\\cdot, y_1)$\")\n",
    "ax.plot(w_grid, w_grid[σ_star[:, -1]], label=\"$\\\\sigma^*(\\cdot, y_N)$\")\n",
    "ax.legend(fontsize=fontsize)\n",
    "plt.show()"
   ]
  },
  {
   "cell_type": "markdown",
   "id": "ca8e8c67",
   "metadata": {},
   "source": [
    "## Tests"
   ]
  },
  {
   "cell_type": "code",
   "execution_count": 1,
   "id": "bfb1e48a",
   "metadata": {
    "scrolled": true
   },
   "outputs": [
    {
     "ename": "NameError",
     "evalue": "name 'create_consumption_model_jax' is not defined",
     "output_type": "error",
     "traceback": [
      "\u001b[0;31m---------------------------------------------------------------------------\u001b[0m",
      "\u001b[0;31mNameError\u001b[0m                                 Traceback (most recent call last)",
      "Input \u001b[0;32mIn [1]\u001b[0m, in \u001b[0;36m<cell line: 1>\u001b[0;34m()\u001b[0m\n\u001b[0;32m----> 1\u001b[0m model \u001b[38;5;241m=\u001b[39m \u001b[43mcreate_consumption_model_jax\u001b[49m()\n",
      "\u001b[0;31mNameError\u001b[0m: name 'create_consumption_model_jax' is not defined"
     ]
    }
   ],
   "source": [
    "model = create_consumption_model_jax()"
   ]
  },
  {
   "cell_type": "code",
   "execution_count": 22,
   "id": "542d2837",
   "metadata": {},
   "outputs": [
    {
     "name": "stdout",
     "output_type": "stream",
     "text": [
      "Starting HPI.\n",
      "Concluded loop 1 with error 77.\n",
      "Concluded loop 2 with error 55.\n",
      "Concluded loop 3 with error 28.\n",
      "Concluded loop 4 with error 17.\n",
      "Concluded loop 5 with error 7.\n",
      "Concluded loop 6 with error 3.\n",
      "Concluded loop 7 with error 1.\n",
      "Concluded loop 8 with error 1.\n",
      "Concluded loop 9 with error 0.\n",
      "TOC: Elapsed: 0:00:0.08\n",
      "[[  0   0   0 ...  20  21  22]\n",
      " [  0   0   0 ...  21  22  23]\n",
      " [  0   0   0 ...  22  23  24]\n",
      " ...\n",
      " [133 133 133 ... 149 149 149]\n",
      " [134 134 134 ... 149 149 149]\n",
      " [135 135 135 ... 149 149 149]]\n",
      "HPI completed in 0.0800316333770752 seconds.\n"
     ]
    }
   ],
   "source": [
    "print(\"Starting HPI.\")\n",
    "qe.tic()\n",
    "out = policy_iteration(model)\n",
    "elapsed = qe.toc()\n",
    "print(out)\n",
    "print(f\"HPI completed in {elapsed} seconds.\")"
   ]
  },
  {
   "cell_type": "code",
   "execution_count": 23,
   "id": "55e8e3f4",
   "metadata": {},
   "outputs": [
    {
     "name": "stdout",
     "output_type": "stream",
     "text": [
      "Starting VFI.\n",
      "TOC: Elapsed: 0:00:0.97\n",
      "[[  0   0   0 ...  20  21  22]\n",
      " [  0   0   0 ...  21  22  23]\n",
      " [  0   0   0 ...  22  23  24]\n",
      " ...\n",
      " [133 133 133 ... 149 149 149]\n",
      " [134 134 134 ... 149 149 149]\n",
      " [135 135 135 ... 149 149 149]]\n",
      "VFI completed in 0.9754199981689453 seconds.\n"
     ]
    }
   ],
   "source": [
    "print(\"Starting VFI.\")\n",
    "qe.tic()\n",
    "out = value_iteration(model)\n",
    "elapsed = qe.toc()\n",
    "print(out)\n",
    "print(f\"VFI completed in {elapsed} seconds.\")"
   ]
  },
  {
   "cell_type": "code",
   "execution_count": 24,
   "id": "a6287324",
   "metadata": {
    "lines_to_next_cell": 2
   },
   "outputs": [
    {
     "name": "stdout",
     "output_type": "stream",
     "text": [
      "Starting OPI.\n",
      "TOC: Elapsed: 0:00:0.30\n",
      "[[  0   0   0 ...  20  21  22]\n",
      " [  0   0   0 ...  21  22  23]\n",
      " [  0   0   0 ...  22  23  24]\n",
      " ...\n",
      " [133 133 133 ... 149 149 149]\n",
      " [134 134 134 ... 149 149 149]\n",
      " [135 135 135 ... 149 149 149]]\n",
      "OPI completed in 0.30298900604248047 seconds.\n"
     ]
    }
   ],
   "source": [
    "print(\"Starting OPI.\")\n",
    "qe.tic()\n",
    "out = optimistic_policy_iteration(model, m=100)\n",
    "elapsed = qe.toc()\n",
    "print(out)\n",
    "print(f\"OPI completed in {elapsed} seconds.\")"
   ]
  },
  {
   "cell_type": "code",
   "execution_count": 25,
   "id": "b8175020",
   "metadata": {},
   "outputs": [
    {
     "name": "stdout",
     "output_type": "stream",
     "text": [
      "Running Howard policy iteration.\n",
      "Concluded loop 1 with error 77.\n",
      "Concluded loop 2 with error 55.\n",
      "Concluded loop 3 with error 28.\n",
      "Concluded loop 4 with error 17.\n",
      "Concluded loop 5 with error 7.\n",
      "Concluded loop 6 with error 3.\n",
      "Concluded loop 7 with error 1.\n",
      "Concluded loop 8 with error 1.\n",
      "Concluded loop 9 with error 0.\n",
      "TOC: Elapsed: 0:00:0.07\n",
      "PI completed in 0.0724649429321289 seconds.\n",
      "Running value function iteration.\n",
      "TOC: Elapsed: 0:00:0.82\n",
      "VFI completed in 0.8205583095550537 seconds.\n",
      "TOC: Elapsed: 0:00:0.29\n",
      "OPI with m=5 completed in 0.2933635711669922 seconds.\n",
      "TOC: Elapsed: 0:00:0.13\n",
      "OPI with m=105 completed in 0.13813066482543945 seconds.\n",
      "TOC: Elapsed: 0:00:0.23\n",
      "OPI with m=205 completed in 0.2313995361328125 seconds.\n",
      "TOC: Elapsed: 0:00:0.32\n",
      "OPI with m=305 completed in 0.3272421360015869 seconds.\n",
      "TOC: Elapsed: 0:00:0.43\n",
      "OPI with m=405 completed in 0.43272995948791504 seconds.\n",
      "TOC: Elapsed: 0:00:0.53\n",
      "OPI with m=505 completed in 0.5349042415618896 seconds.\n",
      "TOC: Elapsed: 0:00:0.63\n",
      "OPI with m=605 completed in 0.6337947845458984 seconds.\n",
      "TOC: Elapsed: 0:00:0.73\n",
      "OPI with m=705 completed in 0.734381914138794 seconds.\n",
      "TOC: Elapsed: 0:00:0.82\n",
      "OPI with m=805 completed in 0.8285622596740723 seconds.\n",
      "TOC: Elapsed: 0:00:0.93\n",
      "OPI with m=905 completed in 0.93099045753479 seconds.\n",
      "TOC: Elapsed: 0:00:1.02\n",
      "OPI with m=1005 completed in 1.027433156967163 seconds.\n",
      "TOC: Elapsed: 0:00:1.13\n",
      "OPI with m=1105 completed in 1.1384315490722656 seconds.\n",
      "TOC: Elapsed: 0:00:1.23\n",
      "OPI with m=1205 completed in 1.2354671955108643 seconds.\n",
      "TOC: Elapsed: 0:00:1.34\n",
      "OPI with m=1305 completed in 1.3434851169586182 seconds.\n",
      "TOC: Elapsed: 0:00:1.43\n",
      "OPI with m=1405 completed in 1.4355814456939697 seconds.\n",
      "TOC: Elapsed: 0:00:1.52\n",
      "OPI with m=1505 completed in 1.5275278091430664 seconds.\n",
      "TOC: Elapsed: 0:00:1.62\n",
      "OPI with m=1605 completed in 1.627840518951416 seconds.\n",
      "TOC: Elapsed: 0:00:1.74\n",
      "OPI with m=1705 completed in 1.7493665218353271 seconds.\n",
      "TOC: Elapsed: 0:00:1.84\n",
      "OPI with m=1805 completed in 1.8404021263122559 seconds.\n",
      "TOC: Elapsed: 0:00:1.94\n",
      "OPI with m=1905 completed in 1.94465970993042 seconds.\n",
      "TOC: Elapsed: 0:00:2.03\n",
      "OPI with m=2005 completed in 2.0321075916290283 seconds.\n",
      "TOC: Elapsed: 0:00:2.17\n",
      "OPI with m=2105 completed in 2.179535150527954 seconds.\n",
      "TOC: Elapsed: 0:00:2.24\n",
      "OPI with m=2205 completed in 2.2458975315093994 seconds.\n",
      "TOC: Elapsed: 0:00:2.34\n",
      "OPI with m=2305 completed in 2.3463053703308105 seconds.\n",
      "TOC: Elapsed: 0:00:2.45\n",
      "OPI with m=2405 completed in 2.454139471054077 seconds.\n",
      "TOC: Elapsed: 0:00:2.54\n",
      "OPI with m=2505 completed in 2.548797607421875 seconds.\n",
      "TOC: Elapsed: 0:00:2.64\n",
      "OPI with m=2605 completed in 2.6481757164001465 seconds.\n",
      "TOC: Elapsed: 0:00:2.74\n",
      "OPI with m=2705 completed in 2.745985746383667 seconds.\n",
      "TOC: Elapsed: 0:00:2.84\n",
      "OPI with m=2805 completed in 2.8493127822875977 seconds.\n",
      "TOC: Elapsed: 0:00:2.95\n",
      "OPI with m=2905 completed in 2.950021266937256 seconds.\n"
     ]
    },
    {
     "data": {
      "image/png": "[encoded data removed]",
      "text/plain": [
       "<Figure size 648x374.4 with 1 Axes>"
      ]
     },
     "metadata": {
      "needs_background": "light"
     },
     "output_type": "display_data"
    }
   ],
   "source": [
    "m_vals = range(5, 3000, 100)\n",
    "model = create_consumption_model_jax()\n",
    "print(\"Running Howard policy iteration.\")\n",
    "qe.tic()\n",
    "σ_pi = policy_iteration(model)\n",
    "pi_time = qe.toc()\n",
    "print(f\"PI completed in {pi_time} seconds.\")\n",
    "\n",
    "print(\"Running value function iteration.\")\n",
    "qe.tic()\n",
    "σ_vfi = value_iteration(model, tol=1e-5)\n",
    "vfi_time = qe.toc()\n",
    "print(f\"VFI completed in {vfi_time} seconds.\")\n",
    "\n",
    "opi_times = []\n",
    "for m in m_vals:\n",
    "    qe.tic()\n",
    "    σ_opi = optimistic_policy_iteration(model, m=m, tol=1e-5)\n",
    "    opi_time = qe.toc()\n",
    "    print(f\"OPI with m={m} completed in {opi_time} seconds.\")\n",
    "    opi_times.append(opi_time)\n",
    "    \n",
    "fig, ax = plt.subplots(figsize=(9, 5.2))\n",
    "ax.plot(m_vals, np.full(len(m_vals), pi_time), \n",
    "        lw=2, label=\"Howard policy iteration\")\n",
    "ax.plot(m_vals, np.full(len(m_vals), vfi_time), \n",
    "        lw=2, label=\"value function iteration\")\n",
    "ax.plot(m_vals, opi_times, lw=2, label=\"optimistic policy iteration\")\n",
    "ax.legend(fontsize=fontsize, frameon=False)\n",
    "ax.set_xlabel(\"$m$\", fontsize=fontsize)\n",
    "ax.set_ylabel(\"time\", fontsize=fontsize)\n",
    "plt.show()"
   ]
  },
  {
   "cell_type": "code",
   "execution_count": null,
   "id": "2c814acc",
   "metadata": {},
   "outputs": [],
   "source": []
  }
 ],
 "metadata": {
  "jupytext": {
   "cell_metadata_filter": "-all",
   "main_language": "python",
   "notebook_metadata_filter": "-all"
  },
  "kernelspec": {
   "display_name": "Python 3 (ipykernel)",
   "language": "python",
   "name": "python3"
  },
  "language_info": {
   "codemirror_mode": {
    "name": "ipython",
    "version": 3
   },
   "file_extension": ".py",
   "mimetype": "text/x-python",
   "name": "python",
   "nbconvert_exporter": "python",
   "pygments_lexer": "ipython3",
   "version": "3.9.12"
  }
 },
 "nbformat": 4,
 "nbformat_minor": 5
}
