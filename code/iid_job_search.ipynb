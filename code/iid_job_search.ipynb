{
 "cells": [
  {
   "cell_type": "code",
   "execution_count": null,
   "id": "6f8189b8",
   "metadata": {},
   "outputs": [],
   "source": [
    "\"\"\"\n",
    "VFI approach to job search in the infinite-horizon IID case.\n",
    "\n",
    "\"\"\""
   ]
  },
  {
   "cell_type": "code",
   "execution_count": null,
   "id": "21c4594e",
   "metadata": {
    "lines_to_next_cell": 2
   },
   "outputs": [],
   "source": [
    "from s_approx import successive_approx\n",
    "from two_period_job_search import create_job_search_model\n",
    "import numpy as np"
   ]
  },
  {
   "cell_type": "code",
   "execution_count": null,
   "id": "f1d1a3f3",
   "metadata": {
    "lines_to_next_cell": 1
   },
   "outputs": [],
   "source": [
    "# A model with default parameters\n",
    "default_model = create_job_search_model()"
   ]
  },
  {
   "cell_type": "code",
   "execution_count": null,
   "id": "53b8506a",
   "metadata": {},
   "outputs": [],
   "source": [
    "def T(v, model):\n",
    "    \"\"\" The Bellman operator. \"\"\"\n",
    "    n, w_vals, φ, β, c = model\n",
    "    return np.array([np.maximum(w / (1 - β),\n",
    "                    c + β * np.sum(v * φ)) for w in w_vals])"
   ]
  },
  {
   "cell_type": "code",
   "execution_count": null,
   "id": "5a3dc938",
   "metadata": {},
   "outputs": [],
   "source": [
    "def get_greedy(v, model):\n",
    "    \"\"\" Get a v-greedy policy. \"\"\"\n",
    "    n, w_vals, φ, β, c = model\n",
    "    σ = w_vals / (1 - β) >= c + β * np.sum(v * φ)  # Boolean policy vector\n",
    "    return σ"
   ]
  },
  {
   "cell_type": "code",
   "execution_count": null,
   "id": "e6bd9dc5",
   "metadata": {},
   "outputs": [],
   "source": [
    "def vfi(model=default_model):\n",
    "    \"\"\" Solve the infinite-horizon IID job search model by VFI. \"\"\"\n",
    "    v_init = np.zeros_like(model.w_vals)\n",
    "    v_star = successive_approx(lambda v: T(v, model), v_init)\n",
    "    σ_star = get_greedy(v_star, model)\n",
    "    return v_star, σ_star"
   ]
  },
  {
   "cell_type": "code",
   "execution_count": null,
   "id": "7ac27c51",
   "metadata": {},
   "outputs": [],
   "source": []
  },
  {
   "cell_type": "markdown",
   "id": "5a3bbcbf",
   "metadata": {},
   "source": [
    "== Plots == #"
   ]
  },
  {
   "cell_type": "code",
   "execution_count": null,
   "id": "2f7492d0",
   "metadata": {
    "lines_to_next_cell": 1
   },
   "outputs": [],
   "source": [
    "import matplotlib.pyplot as plt"
   ]
  },
  {
   "cell_type": "code",
   "execution_count": null,
   "id": "9c1a849b",
   "metadata": {},
   "outputs": [],
   "source": [
    "def fig_vseq(model=default_model,\n",
    "                k=3,\n",
    "                savefig=False,\n",
    "                figname=\"../figures_py/iid_job_search_1.pdf\",\n",
    "                fs=12):\n",
    "\n",
    "    v = np.zeros_like(model.w_vals)\n",
    "    fig, ax = plt.subplots(figsize=(9, 5.5))\n",
    "    for i in range(k):\n",
    "        ax.plot(model.w_vals, v, linewidth=3, alpha=0.6,\n",
    "                label=f\"iterate {i}\")\n",
    "        v = T(v, model)\n",
    "\n",
    "    for i in range(1000):\n",
    "        v = T(v, model)\n",
    "\n",
    "    ax.plot(model.w_vals, v, \"k-\", linewidth=3.0,\n",
    "            label=\"iterate 1000\", alpha=0.7)\n",
    "\n",
    "    fontdict = {'fontsize': fs}\n",
    "    ax.set_xlabel(\"wage offer\", fontdict=fontdict)\n",
    "    ax.set_ylabel(\"lifetime value\", fontdict=fontdict)\n",
    "\n",
    "    ax.legend(fontsize=fs, frameon=False)\n",
    "\n",
    "    if savefig:\n",
    "        fig.savefig(figname)\n",
    "    plt.show()"
   ]
  },
  {
   "cell_type": "code",
   "execution_count": null,
   "id": "10744959",
   "metadata": {},
   "outputs": [],
   "source": [
    "def fig_vstar(model=default_model,\n",
    "              savefig=False, fs=12,\n",
    "              figname=\"../figures_py/iid_job_search_3.pdf\"):\n",
    "    \"\"\" Plot the fixed point. \"\"\"\n",
    "    n, w_vals, φ, β, c = model\n",
    "    v_star, σ_star = vfi(model)\n",
    "\n",
    "    fig, ax = plt.subplots(figsize=(9, 5.5))\n",
    "    ax.plot(w_vals, v_star, \"k-\", linewidth=1.5, label=\"value function\")\n",
    "    cont_val = c + β * np.sum(v_star * φ)\n",
    "    ax.plot(w_vals, [cont_val]*(n+1),\n",
    "            \"--\",\n",
    "            linewidth=5,\n",
    "            alpha=0.5,\n",
    "            label=\"continuation value\")\n",
    "\n",
    "    ax.plot(w_vals,\n",
    "            w_vals / (1 - β),\n",
    "            \"--\",\n",
    "            linewidth=5,\n",
    "            alpha=0.5,\n",
    "            label=r\"$w/(1 - \\beta)$\")\n",
    "\n",
    "    ax.legend(frameon=False, fontsize=fs, loc=\"lower right\")\n",
    "\n",
    "    if savefig:\n",
    "        fig.savefig(figname)\n",
    "    plt.show()"
   ]
  }
 ],
 "metadata": {
  "jupytext": {
   "cell_metadata_filter": "-all",
   "main_language": "python",
   "notebook_metadata_filter": "-all"
  }
 },
 "nbformat": 4,
 "nbformat_minor": 5
}
